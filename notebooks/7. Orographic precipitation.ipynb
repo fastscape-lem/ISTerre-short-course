{
 "cells": [
  {
   "cell_type": "markdown",
   "id": "676bc55c-ccdb-446a-8557-8669ae2191b5",
   "metadata": {},
   "source": [
    "# Creating a new process - Orographic precipitation"
   ]
  },
  {
   "cell_type": "markdown",
   "id": "8c704a3a-7916-43d0-a3ee-10cfe6b4bf2d",
   "metadata": {},
   "source": [
    "![Henry Mountains](HenryMountains.jpg \"Henry Mountains\")"
   ]
  },
  {
   "cell_type": "code",
   "execution_count": 1,
   "id": "d315d165-be4d-4890-938c-32dc807ff581",
   "metadata": {},
   "outputs": [],
   "source": [
    "import numpy as np\n",
    "import matplotlib.pyplot as plt"
   ]
  },
  {
   "cell_type": "code",
   "execution_count": 2,
   "id": "15524cd9-277d-4ce5-b8ff-bd909a6a5114",
   "metadata": {},
   "outputs": [],
   "source": [
    "import xsimlab as xs # modeling framework used for FastScape development\n",
    "import xarray as xr # xarray is a python package to work with labelled multi-dimensional arrays\n",
    "%load_ext xsimlab.ipython\n"
   ]
  },
  {
   "cell_type": "markdown",
   "id": "540bec4b-bb18-4ad9-b855-5d9d4ef0901f",
   "metadata": {},
   "source": [
    "We have developed an [orographic precipitation model](https://github.com/fastscape-lem/orographic-precipitation) based on [Smith and Barstad (2004)](https://journals.ametsoc.org/view/journals/atsc/61/12/1520-0469_2004_061_1377_altoop_2.0.co_2.xml) that can easily be included in any landscape evolution model.\n",
    "\n",
    "We will use it to demonstrate how new processes can be constructed and added to FastScape.\n",
    "\n",
    "Note that the orographic model can be access through conda using ```conda install orographic_precipitation -c conda-forge```"
   ]
  },
  {
   "cell_type": "code",
   "execution_count": 3,
   "id": "6ae5c190-2eec-48f3-b9cb-e2143b2f0acf",
   "metadata": {},
   "outputs": [],
   "source": [
    "from orographic_precipitation import compute_orographic_precip"
   ]
  },
  {
   "cell_type": "markdown",
   "id": "b1b4ce9f-272d-4255-9dcc-46b48ddb769a",
   "metadata": {},
   "source": [
    "We now develop a very simple process called ```Orography``` that simply takes wind direction as an input and produces a precipitation pattern over a given landscape (topography) of known dimensions"
   ]
  },
  {
   "cell_type": "code",
   "execution_count": 4,
   "id": "4ef82bd8-0035-4f46-adac-ff0627474f80",
   "metadata": {},
   "outputs": [],
   "source": [
    "from fastscape.processes import RasterGrid2D, SurfaceTopography, FlowAccumulator\n",
    "\n",
    "@xs.process\n",
    "class Orography:\n",
    "\n",
    "    wind_dir = xs.variable(intent='in', description='wind direction (0 is north)')\n",
    "    precip = xs.foreign(FlowAccumulator, 'runoff', intent='out')\n",
    "    dx = xs.foreign(RasterGrid2D, 'dx')\n",
    "    dy = xs.foreign(RasterGrid2D, 'dy')\n",
    "    h = xs.foreign(SurfaceTopography, 'elevation')\n",
    "\n",
    "    @xs.runtime()\n",
    "    def run_step(self):\n",
    "        lapse_rate = -5.8\n",
    "        lapse_rate_m = -6.5\n",
    "        ref_density = 7.4e-3\n",
    "\n",
    "        param = {\n",
    "        'latitude': 40,\n",
    "        'precip_base': 7,                          # uniform precipitation rate\n",
    "        'wind_speed': 10,\n",
    "        'wind_dir': self.wind_dir,                   # wind direction (270: west)\n",
    "        'conv_time': 1000,                    # conversion time\n",
    "        'fall_time': 1000,                    # fallout time\n",
    "        'nm': 0.005,                      # moist stability frequency\n",
    "        'hw': 5000,                       # water vapor scale height\n",
    "        'cw': ref_density * lapse_rate_m / lapse_rate   # uplift sensitivity\n",
    "        }\n",
    "\n",
    "        self.precip = compute_orographic_precip(self.h, self.dx, self.dy, **param)\n",
    "\n"
   ]
  },
  {
   "cell_type": "code",
   "execution_count": 6,
   "id": "791d6baf-07f7-4da2-b12b-6b475607d5b0",
   "metadata": {},
   "outputs": [
    {
     "data": {
      "text/plain": [
       "<DrainageArea 'drainage' (xsimlab process)>\n",
       "Variables:\n",
       "    shape            [in] <--- grid.shape\n",
       "    cell_area        [in] <--- grid.cell_area\n",
       "    stack            [in] <--- flow.stack\n",
       "    nb_receivers     [in] <--- flow.nb_receivers\n",
       "    receivers        [in] <--- flow.receivers\n",
       "    weights          [in] <--- flow.weights\n",
       "    flowacc         [out] ('y', 'x') flow accumulation from up to d...\n",
       "    runoff          [out] () or ('y', 'x') \n",
       "    area            [out] ('y', 'x') drainage area\n",
       "Simulation stages:\n",
       "    initialize\n",
       "    run_step"
      ]
     },
     "execution_count": 6,
     "metadata": {},
     "output_type": "execute_result"
    }
   ],
   "source": [
    "from fastscape.models import basic_model\n",
    "\n",
    "basic_model.drainage"
   ]
  },
  {
   "cell_type": "markdown",
   "id": "fce454c2-d05d-4230-b175-9d27d4137364",
   "metadata": {},
   "source": [
    "We improve the basic_model by substiting the computation of drainage area with a FlowAccumulator which transform any precipitation function into a accumulated flow and by adding our Orography model that takes a wind direction to produce a precipitation function."
   ]
  },
  {
   "cell_type": "code",
   "execution_count": 7,
   "id": "9df1e6cf-758d-4369-996c-2c2b4909d3c0",
   "metadata": {},
   "outputs": [],
   "source": [
    "spl_model = basic_model.update_processes({'drainage': FlowAccumulator, 'orography': Orography})\n"
   ]
  },
  {
   "cell_type": "markdown",
   "id": "6196f106-acf7-477c-ad21-31181f9a727e",
   "metadata": {},
   "source": [
    "Let's explore this new model"
   ]
  },
  {
   "cell_type": "code",
   "execution_count": 8,
   "id": "80a9a04b-6617-491d-affd-d583ce81f028",
   "metadata": {},
   "outputs": [
    {
     "data": {
      "text/plain": [
       "<FlowAccumulator 'drainage' (xsimlab process)>\n",
       "Variables:\n",
       "    runoff           [in] () or ('y', 'x') surface runoff (source t...\n",
       "    shape            [in] <--- grid.shape\n",
       "    cell_area        [in] <--- grid.cell_area\n",
       "    stack            [in] <--- flow.stack\n",
       "    nb_receivers     [in] <--- flow.nb_receivers\n",
       "    receivers        [in] <--- flow.receivers\n",
       "    weights          [in] <--- flow.weights\n",
       "    flowacc         [out] ('y', 'x') flow accumulation from up to d...\n",
       "Simulation stages:\n",
       "    run_step"
      ]
     },
     "execution_count": 8,
     "metadata": {},
     "output_type": "execute_result"
    }
   ],
   "source": [
    "spl_model.drainage"
   ]
  },
  {
   "cell_type": "markdown",
   "id": "1a4f56f7-dd5b-415f-a087-1d4d7cad7bb9",
   "metadata": {},
   "source": [
    "We run the model with a wind direction from the South"
   ]
  },
  {
   "cell_type": "code",
   "execution_count": 9,
   "id": "b191cbc7-5153-4f05-be8e-aea3daa013c2",
   "metadata": {},
   "outputs": [],
   "source": [
    "# %create_setup spl_model --default --verbose\n",
    "import xsimlab as xs\n",
    "\n",
    "ds_in = xs.create_setup(\n",
    "    model=spl_model,\n",
    "    clocks={'time': np.linspace(0,2e7,201),\n",
    "           'out': np.linspace(0, 2e7, 21)},\n",
    "    master_clock = 'time',\n",
    "    input_vars={\n",
    "        # nb. of grid nodes in (y, x)\n",
    "        'grid__shape': [101,201],\n",
    "        # total grid length in (y, x)\n",
    "        'grid__length': [1e5,2e5],\n",
    "        # node status at borders\n",
    "        'boundary__status': 'fixed_value',\n",
    "        # uplift rate\n",
    "        'uplift__rate': 1e-3,\n",
    "        # random seed\n",
    "        'init_topography__seed': None,\n",
    "        # diffusivity (transport coefficient)\n",
    "        'diffusion__diffusivity': 1,\n",
    "        # bedrock channel incision coefficient\n",
    "        'spl__k_coef': 1e-5,\n",
    "        # drainage area exponent\n",
    "        'spl__area_exp': 0.4,\n",
    "        # slope exponent\n",
    "        'spl__slope_exp': 1,\n",
    "        # wind direction (0 is north)\n",
    "        'orography__wind_dir': 180,\n",
    "    },\n",
    "    output_vars={\n",
    "        'topography__elevation': 'out',\n",
    "        'drainage__flowacc': 'out',\n",
    "        'drainage__runoff': 'out'}\n",
    ")\n"
   ]
  },
  {
   "cell_type": "code",
   "execution_count": 10,
   "id": "0c424975-4893-420c-9c7f-1dc678588a5c",
   "metadata": {},
   "outputs": [
    {
     "data": {
      "application/vnd.jupyter.widget-view+json": {
       "model_id": "90607ce862d441a8b0f91996fa7e8216",
       "version_major": 2,
       "version_minor": 0
      },
      "text/plain": [
       "             0% | initialize "
      ]
     },
     "metadata": {},
     "output_type": "display_data"
    }
   ],
   "source": [
    "with xs.monitoring.ProgressBar():\n",
    "    ds_out = ds_in.xsimlab.run(model=spl_model)"
   ]
  },
  {
   "cell_type": "code",
   "execution_count": 11,
   "id": "c83b5a75-ac6b-4c84-9c2a-fe0015382ad1",
   "metadata": {},
   "outputs": [
    {
     "data": {
      "application/vnd.jupyter.widget-view+json": {
       "model_id": "3fff37c1d4f1496da3f287a8ea0677be",
       "version_major": 2,
       "version_minor": 0
      },
      "text/plain": [
       "Output(layout=Layout(height='640px'))"
      ]
     },
     "metadata": {},
     "output_type": "display_data"
    }
   ],
   "source": [
    "from ipyfastscape import TopoViz3d\n",
    "\n",
    "app = TopoViz3d(ds_out, canvas_height=600, time_dim=\"out\")\n",
    "\n",
    "app.components['background_color'].set_color('lightgray')\n",
    "app.components['vertical_exaggeration'].set_factor(5)\n",
    "app.components['timestepper'].go_to_time(ds_out.out[-1])\n",
    "\n",
    "app.show()"
   ]
  },
  {
   "cell_type": "code",
   "execution_count": null,
   "id": "fb5dd9df-94b6-4835-878c-b5874c78d5c8",
   "metadata": {},
   "outputs": [],
   "source": []
  },
  {
   "cell_type": "code",
   "execution_count": null,
   "id": "a79d9027-80dd-4752-9e0b-d3a3e3a2df45",
   "metadata": {},
   "outputs": [],
   "source": []
  }
 ],
 "metadata": {
  "kernelspec": {
   "display_name": "Python [conda env:fastscape_Grenoble_test]",
   "language": "python",
   "name": "conda-env-fastscape_Grenoble_test-py"
  },
  "language_info": {
   "codemirror_mode": {
    "name": "ipython",
    "version": 3
   },
   "file_extension": ".py",
   "mimetype": "text/x-python",
   "name": "python",
   "nbconvert_exporter": "python",
   "pygments_lexer": "ipython3",
   "version": "3.8.12"
  }
 },
 "nbformat": 4,
 "nbformat_minor": 5
}
