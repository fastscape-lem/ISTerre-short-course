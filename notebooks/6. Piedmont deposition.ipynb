{
 "cells": [
  {
   "cell_type": "markdown",
   "metadata": {},
   "source": [
    "# Modeling an orogenic system using FastScape: 7. Piedmont deposition"
   ]
  },
  {
   "cell_type": "markdown",
   "metadata": {},
   "source": [
    "![Henry Mountains](HenryMountains.jpg \"Henry Mountains\")"
   ]
  },
  {
   "cell_type": "markdown",
   "metadata": {},
   "source": [
    "We now wish to consider the effect of sedimentation at the foot of a mountain front (in a piedmont)\n",
    "\n",
    "For this we will use the \"sediment_model\", which is an addition to the SPL model introduced by [Davy and Lague, 2009](https://agupubs.onlinelibrary.wiley.com/doi/full/10.1029/2008JF001146) and developed into an implicit and O(n) algorithm by [Yuan et al, 2019](https://agupubs.onlinelibrary.wiley.com/doi/full/10.1029/2018JF004867). It states that the rate of change of topography is controlled by uplift, erosion and deposition and that deposition is proportional to the ratio of upstream sediment flux and water discharge. This gives the following equation (neglecting hillslope processes):\n",
    "\n",
    "$$\\frac{\\partial h}{\\partial t}=U-K_fA^mS^n+G\\frac{Q_s}{A}=U-K_fA^mS^n+G\\frac{U-\\int_A\\frac{\\partial h}{\\partial t}\\ dA}{A}$$\n",
    "\n",
    "where $G$ is a dimensionless factor estimated at around 1 or 2 [Guerit et al, 2019](https://pubs.geoscienceworld.org/gsa/geology/article/47/9/853/572094/Fluvial-landscape-evolution-controlled-by-the) but depends linearly on precipitation rate."
   ]
  },
  {
   "cell_type": "code",
   "execution_count": 1,
   "metadata": {},
   "outputs": [],
   "source": [
    "import numpy as np\n",
    "import matplotlib.pyplot as plt\n",
    "#plt.style.use('dark_background')\n",
    "\n",
    "import xsimlab as xs\n",
    "import xarray as xr\n",
    "%load_ext xsimlab.ipython\n",
    "\n",
    "from fastscape.models import sediment_model\n"
   ]
  },
  {
   "cell_type": "markdown",
   "metadata": {},
   "source": [
    "The sediment model requires also several other parameters, such as separate values of Kf and G for bedrock and sediment and an exponent ($p$) that is used to control the divergence of water flow. If the exponent is very large, the flow is very focused; if the exponent is very small, the flow is very distributed. There are some theoeretical reasons to use $p=1$ but they are \"weak\"..."
   ]
  },
  {
   "cell_type": "code",
   "execution_count": 2,
   "metadata": {},
   "outputs": [
    {
     "data": {
      "text/plain": [
       "<Bedrock 'bedrock' (xsimlab process)>\n",
       "Variables:\n",
       "    elevation          [inout] ('y', 'x') bedrock elevation\n",
       "    depth                [out] ('y', 'x') bedrock depth below topog...\n",
       "    bedrock_motion_up     [in] <--- vmotion.bedrock_upward\n",
       "    surface_motion_up     [in] <--- vmotion.surface_upward\n",
       "    surface_elevation     [in] <--- topography.elevation\n",
       "Simulation stages:\n",
       "    initialize\n",
       "    run_step\n",
       "    finalize_step"
      ]
     },
     "execution_count": 2,
     "metadata": {},
     "output_type": "execute_result"
    }
   ],
   "source": [
    "spl_model = sediment_model.drop_processes('diffusion')\n",
    "spl_model.bedrock"
   ]
  },
  {
   "cell_type": "markdown",
   "metadata": {},
   "source": [
    "We compute $x$ and $y$ arrays to specify a space-variable uplift rate (only half fd the model is a mountain or is in uplift; the other half is not uplifting and represent the adjacent piedmont area)"
   ]
  },
  {
   "cell_type": "code",
   "execution_count": 3,
   "metadata": {},
   "outputs": [],
   "source": [
    "x, y = np.meshgrid(np.linspace(0,300e3,301), np.linspace(0,100e3,101))"
   ]
  },
  {
   "cell_type": "code",
   "execution_count": 4,
   "metadata": {},
   "outputs": [],
   "source": [
    "# %create_setup spl_model --default --verbose\n",
    "import xsimlab as xs\n",
    "\n",
    "ds_in = xs.create_setup(\n",
    "    model=spl_model,\n",
    "    clocks={'time': np.linspace(0,1e7,1001),\n",
    "           'out': np.linspace(0,1e7,101)},\n",
    "    master_clock = 'time',\n",
    "    input_vars={\n",
    "        # nb. of grid nodes in (y, x)\n",
    "        'grid__shape': [101, 301],\n",
    "        # total grid length in (y, x)\n",
    "        'grid__length': [100e3, 300e3],\n",
    "        # node status at borders\n",
    "        'boundary__status': ['fixed_value', 'fixed_value', 'looped', 'looped'],\n",
    "        # uplift rate\n",
    "        'uplift__rate': 1e-3*np.where(x>200e3,1,0),\n",
    "        # random seed\n",
    "        'init_topography__seed': None,\n",
    "        # MFD partioner slope exponent\n",
    "        'flow__slope_exp': 1.0,\n",
    "        # drainage area exponent\n",
    "        'spl__area_exp': 0.4,\n",
    "        # slope exponent\n",
    "        'spl__slope_exp': 1,\n",
    "        # bedrock channel incision coefficient\n",
    "        'spl__k_coef_bedrock': 1e-5,\n",
    "        # soil (sediment) channel incision coefficient\n",
    "        'spl__k_coef_soil': 1e-5,\n",
    "        # detached bedrock transport/deposition coefficient\n",
    "        'spl__g_coef_bedrock': 1,\n",
    "        # soil (sediment) transport/deposition coefficient\n",
    "        'spl__g_coef_soil': 1,\n",
    "    },\n",
    "    output_vars={'topography__elevation': 'out',\n",
    "                 'bedrock__elevation': 'out',\n",
    "                'drainage__area': 'out'}\n",
    ")\n"
   ]
  },
  {
   "cell_type": "code",
   "execution_count": 5,
   "metadata": {},
   "outputs": [
    {
     "data": {
      "application/vnd.jupyter.widget-view+json": {
       "model_id": "bf48c619f55947aa82e9fa5622bab952",
       "version_major": 2,
       "version_minor": 0
      },
      "text/plain": [
       "             0% | initialize "
      ]
     },
     "metadata": {},
     "output_type": "display_data"
    }
   ],
   "source": [
    "with xs.monitoring.ProgressBar():\n",
    "    ds_out = ds_in.xsimlab.run(model=spl_model)"
   ]
  },
  {
   "cell_type": "code",
   "execution_count": 6,
   "metadata": {},
   "outputs": [
    {
     "data": {
      "application/vnd.jupyter.widget-view+json": {
       "model_id": "2f859344ec9840f0b1bb8dd9e258a510",
       "version_major": 2,
       "version_minor": 0
      },
      "text/plain": [
       "Output(layout=Layout(height='640px'))"
      ]
     },
     "metadata": {},
     "output_type": "display_data"
    }
   ],
   "source": [
    "from ipyfastscape import TopoViz3d\n",
    "\n",
    "app = TopoViz3d(ds_out, canvas_height=600, time_dim=\"out\")\n",
    "\n",
    "app.components['background_color'].set_color('lightgray')\n",
    "app.components['vertical_exaggeration'].set_factor(5)\n",
    "app.components['timestepper'].go_to_time(ds_out.out[-1])\n",
    "\n",
    "app.show()"
   ]
  },
  {
   "cell_type": "markdown",
   "metadata": {},
   "source": [
    "Looking at the $y$-averaged topography shows the formation of a fan and a alluvial plain connecting the mountain to the \"ocean\" or base level."
   ]
  },
  {
   "cell_type": "code",
   "execution_count": 7,
   "metadata": {},
   "outputs": [
    {
     "data": {
      "text/plain": [
       "[<matplotlib.lines.Line2D at 0x7f84550a72b0>]"
      ]
     },
     "execution_count": 7,
     "metadata": {},
     "output_type": "execute_result"
    },
    {
     "data": {
      "image/png": "[encoded data removed]",
      "text/plain": [
       "<Figure size 432x288 with 1 Axes>"
      ]
     },
     "metadata": {
      "needs_background": "light"
     },
     "output_type": "display_data"
    }
   ],
   "source": [
    "ds_out.topography__elevation.mean('y').isel(out=-1).plot()\n",
    "ds_out.bedrock__elevation.mean('y').isel(out=-1).plot()"
   ]
  },
  {
   "cell_type": "markdown",
   "metadata": {},
   "source": [
    "In fact there is an analytical solution to the steady-state of a sedimentary system deposited at the base of a \"source\" area according to the equation we use in FastScape"
   ]
  },
  {
   "cell_type": "markdown",
   "metadata": {},
   "source": [
    "$$\\frac{\\partial h}{\\partial t}=-K_f(\\frac{A\\nu}{w})^m|S|^n+\\frac{Gw}{A\\nu}q=-\\frac{K_f}{w^m}(A\\nu)^m|S|^n+\\frac{Gw}{A\\nu}(q_0-\\int_0^x\\frac{\\partial h}{\\partial t}\\ dx)$$\n"
   ]
  },
  {
   "cell_type": "markdown",
   "metadata": {},
   "source": [
    "![Setup](Sketch.jpg)"
   ]
  },
  {
   "cell_type": "markdown",
   "metadata": {},
   "source": [
    "This analytical solution is:"
   ]
  },
  {
   "cell_type": "markdown",
   "metadata": {},
   "source": [
    "$$h(x,t=\\infty)=\\int_x^L\\frac{\\partial h}{\\partial x}\\ dx=\\bigl(\\frac{q_0Gw^{m+1}}{K_f(A_0)^{m+1}}\\bigr)^{1/n}\\Bigl(L\\ _2F_1(\\frac{1}{p};\\frac{m+1}{n};1+\\frac{1}{p};-\\frac{kL^p}{A_0})-x\\ _2F_1(\\frac{1}{p};\\frac{m+1}{n};1+\\frac{1}{p};-\\frac{kx^p}{A_0})\\Bigr)$$\n"
   ]
  },
  {
   "cell_type": "markdown",
   "metadata": {},
   "source": [
    "It shows two different behaviors depending on whether the length of the system (distance between the source and the base level) is smaller or larger than a distance $L_0$ function of the upstream (source) catchment area:\n",
    "\n",
    "$$L_0=(A_0/k)^{1/p}$$"
   ]
  },
  {
   "cell_type": "markdown",
   "metadata": {},
   "source": [
    "![Analytical](Compare_analytical.jpg)"
   ]
  },
  {
   "cell_type": "markdown",
   "metadata": {},
   "source": [
    "The exponent $m$ and $n$ control the distribution of sediment volume between the fan and the alluvial plain and, consequently, the relative slopes of the two systems."
   ]
  },
  {
   "cell_type": "markdown",
   "metadata": {},
   "source": [
    "![mn](Profile_mpn.jpg)"
   ]
  },
  {
   "cell_type": "markdown",
   "metadata": {},
   "source": [
    "This analytical solution also explains nicely the observed relationship between upstream catchment area and fan area/fan slope:\n",
    "\n",
    "![Fan Observations](Fan_observations.jpg)"
   ]
  },
  {
   "cell_type": "markdown",
   "metadata": {},
   "source": [
    "Finally we can couple this system to an isostatic, flexural response using the \"flexure\" process.\n",
    "\n",
    "This can be done by modifying the model (adding a process) and adjusting its inputs accordingly."
   ]
  },
  {
   "cell_type": "code",
   "execution_count": 8,
   "metadata": {},
   "outputs": [
    {
     "data": {
      "application/vnd.jupyter.widget-view+json": {
       "model_id": "707be73562714fa58cab1d819812c372",
       "version_major": 2,
       "version_minor": 0
      },
      "text/plain": [
       "             0% | initialize "
      ]
     },
     "metadata": {},
     "output_type": "display_data"
    }
   ],
   "source": [
    "from fastscape.processes import Flexure\n",
    "\n",
    "spl_model_flex = spl_model.update_processes({'flexure': Flexure})\n",
    "\n",
    "in_vars = {'flexure__e_thickness': 20e3, 'flexure__asthen_density': 3200, 'flexure__lithos_density': 2800}\n",
    "with xs.monitoring.ProgressBar(), spl_model_flex:\n",
    "    ds_out_flex = ds_in.xsimlab.update_vars(input_vars=in_vars).xsimlab.run()"
   ]
  },
  {
   "cell_type": "code",
   "execution_count": 9,
   "metadata": {},
   "outputs": [
    {
     "data": {
      "text/plain": [
       "[<matplotlib.lines.Line2D at 0x7f84565a3940>]"
      ]
     },
     "execution_count": 9,
     "metadata": {},
     "output_type": "execute_result"
    },
    {
     "data": {
      "image/png": "[encoded data removed]",
      "text/plain": [
       "<Figure size 432x288 with 1 Axes>"
      ]
     },
     "metadata": {
      "needs_background": "light"
     },
     "output_type": "display_data"
    }
   ],
   "source": [
    "ds_out_flex.topography__elevation.mean('y').isel(out=-1).plot()\n",
    "ds_out_flex.bedrock__elevation.mean('y').isel(out=-1).plot()"
   ]
  },
  {
   "cell_type": "code",
   "execution_count": null,
   "metadata": {},
   "outputs": [],
   "source": []
  }
 ],
 "metadata": {
  "kernelspec": {
   "display_name": "Python [conda env:fastscape]",
   "language": "python",
   "name": "conda-env-fastscape-py"
  },
  "language_info": {
   "codemirror_mode": {
    "name": "ipython",
    "version": 3
   },
   "file_extension": ".py",
   "mimetype": "text/x-python",
   "name": "python",
   "nbconvert_exporter": "python",
   "pygments_lexer": "ipython3",
   "version": "3.8.12"
  }
 },
 "nbformat": 4,
 "nbformat_minor": 4
}
